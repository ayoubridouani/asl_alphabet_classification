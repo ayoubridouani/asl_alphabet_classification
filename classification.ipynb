{
 "cells": [
  {
   "cell_type": "code",
   "execution_count": 1,
   "metadata": {},
   "outputs": [],
   "source": [
    "import numpy as np\n",
    "import cv2 ,os\n",
    "import imutils\n",
    "import csv\n",
    "import glob\n",
    "import pandas as pd"
   ]
  },
  {
   "cell_type": "code",
   "execution_count": 2,
   "metadata": {},
   "outputs": [],
   "source": [
    "#colorDiscripteur\n",
    "def histogram(image, mask):\n",
    "    hist = cv2.calcHist([image], [0, 1, 2], mask, (8, 12, 3),[0, 180, 0, 256, 0, 256])\n",
    "    if imutils.is_cv2():\n",
    "        hist = cv2.normalize(hist).flatten()\n",
    "    else:\n",
    "        hist = cv2.normalize(hist, hist).flatten()\n",
    "\n",
    "    return hist\n",
    "\n",
    "def describe(image):\n",
    "    image = cv2.cvtColor(image, cv2.COLOR_BGR2HSV) #convertir notre image en espace hsv\n",
    "    features = []\n",
    "    (h, w) = image.shape[:2]\n",
    "    (cX, cY) = (int(w * 0.5), int(h * 0.5))   #calcul du centre de notre image\n",
    "    segments = [(0, cX, 0, cY), (cX, w, 0, cY), (cX, w, cY, h), (0, cX, cY, h)] #ici on divise l'image en 4 parties/regions pour chaque coté \n",
    "    \n",
    "    for (startX, endX, startY, endY) in segments:\n",
    "        cornerMask = np.zeros(image.shape[:2], dtype = \"uint8\")  #construire un mask noir pour chaque region\n",
    "        cv2.rectangle(cornerMask, (startX, startY), (endX, endY), 255, -1)\n",
    "        hist = histogram(image, cornerMask)   #extraire notre histogramme \n",
    "        features.extend(hist)                # maj de notre vecteur de featues\n",
    "    hist = histogram(image, cornerMask)     #extraire un histogramme couleur \n",
    "    features.extend(hist)     \n",
    "\n",
    "    return features"
   ]
  },
  {
   "cell_type": "code",
   "execution_count": 3,
   "metadata": {
    "scrolled": true
   },
   "outputs": [],
   "source": [
    "def index_train_feature(indexPathTrain):\n",
    "    databasePathTrain = \"asl_alphabet_train\"\n",
    "    output = open(indexPathTrain, \"w\")\n",
    "    metadata_i = 1\n",
    "    metadata_o = \"\"\n",
    "\n",
    "    for imagePath in glob.glob(databasePathTrain + os.path.sep + \"*\" + os.path.sep + \"*.*\"):\n",
    "        imageID = imagePath.split(os.path.sep)[-1] # extraire le nom de chaque photo\n",
    "        target = imagePath.split(os.path.sep)[-2] # extraire le classe de chaque photo\n",
    "\n",
    "        image = cv2.imread(imagePath)\n",
    "        features = describe(image)\n",
    "        features = [str(f) for f in features]\n",
    "\n",
    "        if metadata_i == 1:\n",
    "            for i in range(len(features)):\n",
    "                metadata_o += \"X\" + str(i+1) + \",\"\n",
    "            metadata_i = 0\n",
    "            metadata_o = metadata_o[:-1]\n",
    "            output.write(\"%s,%s,%s\\n\" % (\"imageID\", \"target\", metadata_o))\n",
    "        output.write(\"%s,%s\\n\" % (imageID + \",\" + target, \",\".join(features)))\n",
    "\n",
    "    output.close()"
   ]
  },
  {
   "cell_type": "code",
   "execution_count": 4,
   "metadata": {},
   "outputs": [],
   "source": [
    "indexPathTrain = \"index_train.csv\"\n",
    "\n",
    "index_train_feature(\"index_train.csv\")\n",
    "\n",
    "data = pd.read_csv(indexPathTrain)\n",
    "\n",
    "X_train = data.iloc[:,2:].values\n",
    "Y_train = data.iloc[:,1].values\n",
    "\n",
    "del data"
   ]
  },
  {
   "cell_type": "code",
   "execution_count": 5,
   "metadata": {},
   "outputs": [],
   "source": [
    "def index_test_feature(indexPathTest):\n",
    "    databasePathTest = \"asl_alphabet_test\"\n",
    "    output = open(indexPathTest, \"w\")\n",
    "    metadata_i = 1\n",
    "    metadata_o = \"\"\n",
    "    \n",
    "    for imagePath in glob.glob(databasePathTest + \"/*.jpg\"):\n",
    "        imageID = imagePath.split(os.path.sep)[-1]\n",
    "\n",
    "        image = cv2.imread(imagePath)\n",
    "        features = describe(image)\n",
    "        features = [str(f) for f in features]\n",
    "        \n",
    "        if metadata_i == 1:\n",
    "            for i in range(len(features)):\n",
    "                metadata_o += \"X\" + str(i+1) + \",\"\n",
    "            metadata_i = 0\n",
    "            metadata_o = metadata_o[:-1]\n",
    "            output.write(\"%s,%s\\n\" % (\"imageID\", metadata_o))\n",
    "\n",
    "        output.write(\"%s,%s\\n\" % (imageID, \",\".join(features)))\n",
    "\n",
    "    output.close()"
   ]
  },
  {
   "cell_type": "code",
   "execution_count": 6,
   "metadata": {
    "scrolled": true
   },
   "outputs": [],
   "source": [
    "indexPathTest = \"index_test.csv\"\n",
    "\n",
    "index_test_feature(\"index_test.csv\")\n",
    "\n",
    "data = pd.read_csv(indexPathTest)\n",
    "\n",
    "X_test = data.iloc[:,1:].values\n",
    "Y_test = data.iloc[:,0].values\n",
    "\n",
    "del data"
   ]
  },
  {
   "cell_type": "code",
   "execution_count": 7,
   "metadata": {},
   "outputs": [],
   "source": [
    "from sklearn.preprocessing import StandardScaler\n",
    "\n",
    "std_scaler = StandardScaler()\n",
    "X_train = std_scaler.fit_transform(X_train)\n",
    "X_test = std_scaler.fit_transform(X_test)"
   ]
  },
  {
   "cell_type": "code",
   "execution_count": 11,
   "metadata": {},
   "outputs": [
    {
     "name": "stderr",
     "output_type": "stream",
     "text": [
      "/home/ayoub_ridouani/anaconda3/lib/python3.7/site-packages/sklearn/svm/base.py:193: FutureWarning: The default value of gamma will change from 'auto' to 'scale' in version 0.22 to account better for unscaled features. Set gamma explicitly to 'auto' or 'scale' to avoid this warning.\n",
      "  \"avoid this warning.\", FutureWarning)\n"
     ]
    },
    {
     "name": "stdout",
     "output_type": "stream",
     "text": [
      "CPU times: user 1h 15min 50s, sys: 3.31 s, total: 1h 15min 54s\n",
      "Wall time: 1h 15min 57s\n"
     ]
    },
    {
     "data": {
      "text/plain": [
       "SVC(C=1.0, cache_size=200, class_weight=None, coef0=0.0,\n",
       "    decision_function_shape='ovr', degree=3, gamma='auto_deprecated',\n",
       "    kernel='rbf', max_iter=-1, probability=False, random_state=None,\n",
       "    shrinking=True, tol=0.001, verbose=False)"
      ]
     },
     "execution_count": 11,
     "metadata": {},
     "output_type": "execute_result"
    }
   ],
   "source": [
    "from sklearn import svm\n",
    "\n",
    "clf=svm.SVC()\n",
    "%time clf.fit(X_train,Y_train)"
   ]
  },
  {
   "cell_type": "code",
   "execution_count": 12,
   "metadata": {},
   "outputs": [
    {
     "name": "stdout",
     "output_type": "stream",
     "text": [
      "score:  0.9881609195402299\n"
     ]
    }
   ],
   "source": [
    "print(\"score: \", clf.score(X_train,Y_train))"
   ]
  },
  {
   "cell_type": "code",
   "execution_count": 13,
   "metadata": {},
   "outputs": [
    {
     "name": "stdout",
     "output_type": "stream",
     "text": [
      "J_test.jpg  =>  J\n",
      "Y_test.jpg  =>  Y\n",
      "B_test.jpg  =>  B\n",
      "G_test.jpg  =>  G\n",
      "X_test.jpg  =>  X\n",
      "Q_test.jpg  =>  P\n",
      "L_test.jpg  =>  L\n",
      "R_test.jpg  =>  R\n",
      "V_test.jpg  =>  V\n",
      "H_test.jpg  =>  H\n",
      "I_test.jpg  =>  I\n",
      "A_test.jpg  =>  A\n",
      "T_test.jpg  =>  T\n",
      "P_test.jpg  =>  P\n",
      "M_test.jpg  =>  M\n",
      "space_test.jpg  =>  space\n",
      "C_test.jpg  =>  C\n",
      "O_test.jpg  =>  O\n",
      "N_test.jpg  =>  M\n",
      "Z_test.jpg  =>  Z\n",
      "nothing_test.jpg  =>  nothing\n",
      "D_test.jpg  =>  D\n",
      "W_test.jpg  =>  W\n",
      "K_test.jpg  =>  K\n",
      "U_test.jpg  =>  W\n",
      "S_test.jpg  =>  S\n",
      "F_test.jpg  =>  F\n",
      "E_test.jpg  =>  E\n"
     ]
    }
   ],
   "source": [
    "pred = clf.predict(X_test)\n",
    "\n",
    "for i in range(0,len(Y_test)):\n",
    "    print(Y_test[i], \" => \", pred[i])"
   ]
  },
  {
   "cell_type": "code",
   "execution_count": null,
   "metadata": {},
   "outputs": [],
   "source": []
  }
 ],
 "metadata": {
  "kernelspec": {
   "display_name": "Python 3",
   "language": "python",
   "name": "python3"
  },
  "language_info": {
   "codemirror_mode": {
    "name": "ipython",
    "version": 3
   },
   "file_extension": ".py",
   "mimetype": "text/x-python",
   "name": "python",
   "nbconvert_exporter": "python",
   "pygments_lexer": "ipython3",
   "version": "3.7.4"
  }
 },
 "nbformat": 4,
 "nbformat_minor": 4
}

